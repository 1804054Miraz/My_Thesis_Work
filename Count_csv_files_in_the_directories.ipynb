{
  "nbformat": 4,
  "nbformat_minor": 0,
  "metadata": {
    "colab": {
      "provenance": [],
      "mount_file_id": "12S8z5vdjARcAWQ8Mj2c_6ocYEQ4SzhKM",
      "authorship_tag": "ABX9TyPIIAJyRySRN7UPxcXmu6j5",
      "include_colab_link": true
    },
    "kernelspec": {
      "name": "python3",
      "display_name": "Python 3"
    },
    "language_info": {
      "name": "python"
    }
  },
  "cells": [
    {
      "cell_type": "markdown",
      "metadata": {
        "id": "view-in-github",
        "colab_type": "text"
      },
      "source": [
        "<a href=\"https://colab.research.google.com/github/1804054Miraz/My_Thesis_Work/blob/main/Count_csv_files_in_the_directories.ipynb\" target=\"_parent\"><img src=\"https://colab.research.google.com/assets/colab-badge.svg\" alt=\"Open In Colab\"/></a>"
      ]
    },
    {
      "cell_type": "markdown",
      "source": [
        "\n",
        "\n",
        "Total alcoholic data in new_alcoholic directory is :  3849\n",
        "\n",
        "Total alcoholic data in Transfer_new_non_alcoholic directory is :  3811\n",
        "\n"
      ],
      "metadata": {
        "id": "glx8ppxpf1At"
      }
    },
    {
      "cell_type": "code",
      "source": [
        "import os\n",
        "import tarfile\n",
        "import gzip\n",
        "import pandas as pd\n",
        "import glob\n",
        "import numpy as np\n"
      ],
      "metadata": {
        "id": "aj7xMp-RseDS"
      },
      "execution_count": null,
      "outputs": []
    },
    {
      "cell_type": "code",
      "execution_count": null,
      "metadata": {
        "colab": {
          "base_uri": "https://localhost:8080/",
          "height": 245
        },
        "id": "GjWrX_nWHIHd",
        "outputId": "17f068bf-1584-4937-f42c-e1895a00b4a6"
      },
      "outputs": [
        {
          "output_type": "error",
          "ename": "FileNotFoundError",
          "evalue": "ignored",
          "traceback": [
            "\u001b[0;31m---------------------------------------------------------------------------\u001b[0m",
            "\u001b[0;31mFileNotFoundError\u001b[0m                         Traceback (most recent call last)",
            "\u001b[0;32m<ipython-input-9-8f7bf2cef6fc>\u001b[0m in \u001b[0;36m<cell line: 10>\u001b[0;34m()\u001b[0m\n\u001b[1;32m      8\u001b[0m \u001b[0;34m\u001b[0m\u001b[0m\n\u001b[1;32m      9\u001b[0m \u001b[0;31m# Iterate through each subdirectory\u001b[0m\u001b[0;34m\u001b[0m\u001b[0;34m\u001b[0m\u001b[0m\n\u001b[0;32m---> 10\u001b[0;31m \u001b[0;32mfor\u001b[0m \u001b[0mdirectory_name\u001b[0m \u001b[0;32min\u001b[0m \u001b[0mos\u001b[0m\u001b[0;34m.\u001b[0m\u001b[0mlistdir\u001b[0m\u001b[0;34m(\u001b[0m\u001b[0mpath\u001b[0m\u001b[0;34m)\u001b[0m\u001b[0;34m:\u001b[0m\u001b[0;34m\u001b[0m\u001b[0;34m\u001b[0m\u001b[0m\n\u001b[0m\u001b[1;32m     11\u001b[0m     \u001b[0mdirectory_path\u001b[0m \u001b[0;34m=\u001b[0m \u001b[0mos\u001b[0m\u001b[0;34m.\u001b[0m\u001b[0mpath\u001b[0m\u001b[0;34m.\u001b[0m\u001b[0mjoin\u001b[0m\u001b[0;34m(\u001b[0m\u001b[0mpath\u001b[0m\u001b[0;34m,\u001b[0m \u001b[0mdirectory_name\u001b[0m\u001b[0;34m)\u001b[0m\u001b[0;34m\u001b[0m\u001b[0;34m\u001b[0m\u001b[0m\n\u001b[1;32m     12\u001b[0m \u001b[0;34m\u001b[0m\u001b[0m\n",
            "\u001b[0;31mFileNotFoundError\u001b[0m: [Errno 2] No such file or directory: '/content/drive/MyDrive/Dataset/EEG_FULL/Anomaly/Alcoholic/'"
          ]
        }
      ],
      "source": [
        "import os\n",
        "total_count=0\n",
        "path = \"/content/drive/MyDrive/Dataset/EEG_FULL/Anomaly/Alcoholic/\"\n",
        "csv_file_count = {}\n",
        "i=0\n",
        "# Initialize a dictionary to store the count of CSV files for each directory\n",
        "anomaly_alcoholic = {}\n",
        "\n",
        "# Iterate through each subdirectory\n",
        "for directory_name in os.listdir(path):\n",
        "    directory_path = os.path.join(path, directory_name)\n",
        "\n",
        "    # Check if the path is a directory\n",
        "    if os.path.isdir(directory_path):\n",
        "        # Count the number of CSV files in the directory\n",
        "        csv_files = [file for file in os.listdir(directory_path) if file.endswith('.csv')]\n",
        "        csv_count = len(csv_files)\n",
        "\n",
        "        # Store the count in the dictionary\n",
        "        anomaly_alcoholic[str(i)+\"_\"+directory_name] = csv_count\n",
        "        csv_file_count[str(i)+\"_\"+directory_name] = csv_count\n",
        "        i+=1\n",
        "\n",
        "# Print the count for each directory\n",
        "total = 0\n",
        "for directory, count in anomaly_alcoholic.items():\n",
        "    print(f\"Directory {directory}: {count} CSV files\")\n",
        "    total += count\n",
        "print(\"Total alcoholic data in anomaly directory is : \", total)\n",
        "total_count += total"
      ]
    },
    {
      "cell_type": "code",
      "source": [
        "path = \"/content/drive/MyDrive/Dataset/EEG_FULL/Non_selected_alcoholic/\"\n",
        "\n",
        "# Initialize a dictionary to store the count of CSV files for each directory\n",
        "nonselected_alcoholic = {}\n",
        "\n",
        "# Iterate through each subdirectory\n",
        "for directory_name in os.listdir(path):\n",
        "    directory_path = os.path.join(path, directory_name)\n",
        "\n",
        "    # Check if the path is a directory\n",
        "    if os.path.isdir(directory_path):\n",
        "        # Count the number of CSV files in the directory\n",
        "        csv_files = [file for file in os.listdir(directory_path) if file.endswith('.csv')]\n",
        "        csv_count = len(csv_files)\n",
        "\n",
        "        # Store the count in the dictionary\n",
        "        nonselected_alcoholic[directory_name] = csv_count\n",
        "        csv_file_count[str(i)+\"_\"+directory_name] = csv_count\n",
        "        i+=1\n",
        "\n",
        "# Print the count for each directory\n",
        "total = 0\n",
        "for directory, count in nonselected_alcoholic.items():\n",
        "    # print(f\"Directory {directory}: {count} CSV files\")\n",
        "    total += count\n",
        "print(\"Total Non-selected-alcoholic data in EEG_FULL directory is : \", total)\n",
        "total_count += total"
      ],
      "metadata": {
        "colab": {
          "base_uri": "https://localhost:8080/"
        },
        "id": "6mEHn-S9f9ak",
        "outputId": "6b71c16b-afff-4927-d4ee-a9b88ab4a126"
      },
      "execution_count": null,
      "outputs": [
        {
          "output_type": "stream",
          "name": "stdout",
          "text": [
            "Total Non-selected-alcoholic data in EEG_FULL directory is :  2133\n"
          ]
        }
      ]
    },
    {
      "cell_type": "code",
      "source": [
        "\n",
        "\n",
        "path = \"/content/drive/MyDrive/Dataset/EEG_FULL/Anomaly/Non-alcoholic/\"\n",
        "\n",
        "# Initialize a dictionary to store the count of CSV files for each directory\n",
        "anomaly_non_alcoholic = {}\n",
        "\n",
        "# Iterate through each subdirectory\n",
        "for directory_name in os.listdir(path):\n",
        "    directory_path = os.path.join(path, directory_name)\n",
        "\n",
        "    # Check if the path is a directory\n",
        "    if os.path.isdir(directory_path):\n",
        "        # Count the number of CSV files in the directory\n",
        "        csv_files = [file for file in os.listdir(directory_path) if file.endswith('.csv')]\n",
        "        csv_count = len(csv_files)\n",
        "\n",
        "        # Store the count in the dictionary\n",
        "        anomaly_non_alcoholic[directory_name] = csv_count\n",
        "        csv_file_count[str(i)+\"_\"+directory_name] = csv_count\n",
        "        i+=1\n",
        "\n",
        "# Print the count for each directory\n",
        "total = 0\n",
        "for directory, count in anomaly_non_alcoholic.items():\n",
        "    # print(f\"Directory {directory}: {count} CSV files\")\n",
        "    total += count\n",
        "print(\"Total non-alcoholic data in anomaly directory is : \", total)\n",
        "total_count += total"
      ],
      "metadata": {
        "colab": {
          "base_uri": "https://localhost:8080/"
        },
        "id": "a24S7MPjKshc",
        "outputId": "7c3db9a3-e9c6-4c78-9a8d-623bb4007ab2"
      },
      "execution_count": null,
      "outputs": [
        {
          "output_type": "stream",
          "name": "stdout",
          "text": [
            "Total non-alcoholic data in anomaly directory is :  111\n"
          ]
        }
      ]
    },
    {
      "cell_type": "code",
      "source": [
        "\n",
        "\n",
        "path = \"/content/drive/MyDrive/Dataset/EEG_FULL/Old data/Alcoholic\"\n",
        "\n",
        "# Initialize a dictionary to store the count of CSV files for each directory\n",
        "anomaly_non_alcoholic = {}\n",
        "csv_file_count = {}\n",
        "i=0\n",
        "# Iterate through each subdirectory\n",
        "for directory_name in os.listdir(path):\n",
        "    directory_path = os.path.join(path, directory_name)\n",
        "\n",
        "    # Check if the path is a directory\n",
        "    if os.path.isdir(directory_path):\n",
        "        # Count the number of CSV files in the directory\n",
        "        csv_files = [file for file in os.listdir(directory_path) if file.endswith('.csv')]\n",
        "        csv_count = len(csv_files)\n",
        "\n",
        "        # Store the count in the dictionary\n",
        "        anomaly_non_alcoholic[directory_name] = csv_count\n",
        "        csv_file_count[str(i)+\"_\"+directory_name] = csv_count\n",
        "        i+=1\n",
        "\n",
        "# Print the count for each directory\n",
        "total = 0\n",
        "for directory, count in anomaly_non_alcoholic.items():\n",
        "    # print(f\"Directory {directory}: {count} CSV files\")\n",
        "    total += count\n",
        "print(\"Total alcoholic data in EEG_FULL directory is : \", total)\n",
        "# total_count += total"
      ],
      "metadata": {
        "colab": {
          "base_uri": "https://localhost:8080/"
        },
        "id": "_afjFSz7LaZR",
        "outputId": "5a845911-d42f-44d6-9b15-02a25a06f25c"
      },
      "execution_count": null,
      "outputs": [
        {
          "output_type": "stream",
          "name": "stdout",
          "text": [
            "Total alcoholic data in EEG_FULL directory is :  3849\n"
          ]
        }
      ]
    },
    {
      "cell_type": "code",
      "source": [
        "import os\n",
        "\n",
        "path = \"/content/drive/MyDrive/Dataset/EEG_FULL/Old data/Non-alcoholic/\"\n",
        "\n",
        "# Initialize a dictionary to store the count of CSV files for each directory\n",
        "anomaly_non_alcoholic = {}\n",
        "# Iterate through each subdirectory\n",
        "for directory_name in os.listdir(path):\n",
        "    directory_path = os.path.join(path, directory_name)\n",
        "\n",
        "    # Check if the path is a directory\n",
        "    if os.path.isdir(directory_path):\n",
        "        # Count the number of CSV files in the directory\n",
        "        csv_files = [file for file in os.listdir(directory_path) if file.endswith('.csv')]\n",
        "        csv_count = len(csv_files)\n",
        "\n",
        "        # Store the count in the dictionary\n",
        "        anomaly_non_alcoholic[directory_name] = csv_count\n",
        "        csv_file_count[str(i)+\"_\"+directory_name] = csv_count\n",
        "        i+=1\n",
        "\n",
        "# Print the count for each directory\n",
        "total = 0\n",
        "for directory, count in anomaly_non_alcoholic.items():\n",
        "    print(f\"Directory {directory}: {count} CSV files\")\n",
        "    total += count\n",
        "print(\"Total Non-alcoholic data in EEG_FULL directory is : \", total)\n",
        "total_count += total"
      ],
      "metadata": {
        "id": "aVxlpMN6qIPI"
      },
      "execution_count": null,
      "outputs": []
    },
    {
      "cell_type": "code",
      "source": [
        "sorted_csv_file_count = dict(sorted(csv_file_count.items(), key=lambda item: item[1], reverse=True))\n",
        "print(\"Total count of EEG_FULL is : \", len(sorted_csv_file_count))\n",
        "print(len(sorted_csv_file_count))\n",
        "total = 0\n",
        "for directory, count in sorted_csv_file_count.items():\n",
        "    # print(f\"Directory {directory}: {count} CSV files\")\n",
        "    total += count\n",
        "print(\"Total Data in EEG_FULL directory is : \", total)\n",
        "total_count += total"
      ],
      "metadata": {
        "colab": {
          "base_uri": "https://localhost:8080/"
        },
        "id": "r_UjTMJuqjsw",
        "outputId": "940f96a6-9320-47db-db6a-e0a64033ebb5"
      },
      "execution_count": null,
      "outputs": [
        {
          "output_type": "stream",
          "name": "stdout",
          "text": [
            "Total count of EEG_FULL is :  122\n",
            "122\n",
            "Total Data in EEG_FULL directory is :  10955\n"
          ]
        }
      ]
    },
    {
      "cell_type": "code",
      "source": [
        "\n",
        "# Set the path to the main directory\n",
        "path = \"/content/drive/MyDrive/Dataset/eeg_full/\"\n",
        "\n",
        "# # Initialize a dictionary to store the count of rd.gz files for each tar.gz file\n",
        "# rd_count_by_tar = {}\n",
        "\n",
        "# # Iterate through each tar.gz file\n",
        "# for tar_file_name in os.listdir(path):\n",
        "#     tar_file_path = os.path.join(path, tar_file_name)\n",
        "\n",
        "#     # Check if the path is a file and ends with .tar.gz\n",
        "#     if os.path.isfile(tar_file_path) and tar_file_name.endswith('.tar.gz'):\n",
        "#         # Extract the contents of the tar.gz file to a temporary directory\n",
        "#         with tarfile.open(tar_file_path, 'r:gz') as tar:\n",
        "#            # List all the files in the archive\n",
        "#           file_list = tar.getnames()\n",
        "#           # print(file_list)\n",
        "#           # Initialize a list to store DataFrames\n",
        "#           dfs = []\n",
        "\n",
        "#           # Loop through the files in the archive\n",
        "#           for file_name in file_list:\n",
        "#               if file_name.endswith('.gz'):\n",
        "#                   extracted_file = tar.extractfile(file_name)\n",
        "#                   decompressed_data = gzip.GzipFile(fileobj=extracted_file)\n",
        "#                   df = pd.read_csv(decompressed_data, delimiter='\\t')\n",
        "#                   dfs.append(df)\n",
        "#           rd_count_by_tar[file_name]=len(dfs)\n",
        "#           # print(file_name, \"has \",len(dfs))\n",
        "\n"
      ],
      "metadata": {
        "id": "msNcNc5tMRFB"
      },
      "execution_count": null,
      "outputs": []
    },
    {
      "cell_type": "code",
      "source": [
        "# sorted(rd_count_by_tar)\n",
        "# # Print the count for each tar.gz file\n",
        "# total = 0;\n",
        "# sorted_rd_count_by_tar = dict(sorted(rd_count_by_tar.items(), key=lambda item: item[1], reverse=True))\n",
        "# print(len(rd_count_by_tar))\n",
        "# for tar_file, count in sorted_rd_count_by_tar.items():\n",
        "#     # print(f\"Tar file {tar_file}: {count} .gz files\")\n",
        "#     total += count\n",
        "\n",
        "print(\"Total alcoholic data in eeg_full directory is : \", total)"
      ],
      "metadata": {
        "id": "mMerL5IHmbWa",
        "colab": {
          "base_uri": "https://localhost:8080/"
        },
        "outputId": "4d18f358-2fb5-4660-8e17-cb1c02ae75aa"
      },
      "execution_count": null,
      "outputs": [
        {
          "output_type": "stream",
          "name": "stdout",
          "text": [
            "122\n",
            "Total alcoholic data in eeg_full directory is :  11074\n"
          ]
        }
      ]
    },
    {
      "cell_type": "code",
      "source": [
        "import os\n",
        "total_count=0\n",
        "path = \"/content/drive/MyDrive/Dataset/EEG_FULL/New_alcoholic/\"\n",
        "csv_file_count = {}\n",
        "i=0\n",
        "# Initialize a dictionary to store the count of CSV files for each directory\n",
        "anomaly_alcoholic = {}\n",
        "\n",
        "# Iterate through each subdirectory\n",
        "for directory_name in os.listdir(path):\n",
        "    directory_path = os.path.join(path, directory_name)\n",
        "\n",
        "    # Check if the path is a directory\n",
        "    if os.path.isdir(directory_path):\n",
        "        # Count the number of CSV files in the directory\n",
        "        csv_files = [file for file in os.listdir(directory_path) if file.endswith('.csv')]\n",
        "        csv_count = len(csv_files)\n",
        "\n",
        "        # Store the count in the dictionary\n",
        "        anomaly_alcoholic[str(i)+\"_\"+directory_name] = csv_count\n",
        "        csv_file_count[str(i)+\"_\"+directory_name] = csv_count\n",
        "        i+=1\n",
        "\n",
        "# Print the count for each directory\n",
        "total = 0\n",
        "for directory, count in anomaly_alcoholic.items():\n",
        "    # print(f\"Directory {directory}: {count} CSV files\")\n",
        "    total += count\n",
        "print(\"Total alcoholic data in new_alcoholic directory is : \", total)\n",
        "total_count += total"
      ],
      "metadata": {
        "id": "c-Fzm6XFiTO7",
        "colab": {
          "base_uri": "https://localhost:8080/"
        },
        "outputId": "25ab451f-bab3-4026-e99b-435875b5e5a0"
      },
      "execution_count": null,
      "outputs": [
        {
          "output_type": "stream",
          "name": "stdout",
          "text": [
            "Total alcoholic data in new_alcoholic directory is :  3811\n"
          ]
        }
      ]
    },
    {
      "cell_type": "code",
      "source": [
        "## Transpose the dataframe. Now the dataframe are 64x256. We want 256x64 with columns name also\n",
        "new_path ='/content/drive/MyDrive/Dataset/EEG_FULL/Transfer_new_non_alcoholic/'\n",
        "# output_directory = \"/content/drive/MyDrive/Dataset/EEG_FULL/New_non_alcoholic/\"\n",
        "# non_alcoholic_path = '/content/drive/MyDrive/Dataset/EEG_FULL/Non-alcoholic/'\n",
        "\n",
        "t=0\n",
        "# print(alcoholic_path)\n",
        "# ! mkdir new_path+directory_name\n",
        "for directory_name in os.listdir(new_path):\n",
        "  # !mkdir {new_path + directory_name}\n",
        "  # time.sleep(5)\n",
        "  directory_path = os.path.join(new_path, directory_name)\n",
        "  # print(directory_path)\n",
        "  if os.path.isdir(directory_path):\n",
        "    csv_files = [file for file in os.listdir(directory_path) if file.endswith('.csv')]\n",
        "    count = len(csv_files)\n",
        "    t+=count\n",
        "    # print(count)\n",
        "    # for file in csv_files:\n",
        "    #   # print(directory_path+'/'+file)\n",
        "    #   df = pd.read_csv(directory_path+'/'+file)\n",
        "    #   df = df.transpose()\n",
        "    #   df.columns=['FP1', 'FP2', 'F7', 'F8', 'AF1', 'AF2', 'FZ', 'F4', 'F3', 'FC6', 'FC5', 'FC2', 'FC1', 'T8', 'T7', 'CZ', 'C3', 'C4', 'CP5', 'CP6', 'CP1', 'CP2', 'P3', 'P4', 'PZ', 'P8', 'P7', 'PO2', 'PO1', 'O2', 'O1', 'X', 'AF7', 'AF8', 'F5', 'F6', 'FT7', 'FT8', 'FPZ', 'FC4', 'FC3', 'C6', 'C5', 'F2', 'F1', 'TP8', 'TP7', 'AFZ', 'CP3', 'CP4', 'P5', 'P6', 'C1', 'C2', 'PO7', 'PO8', 'FCZ', 'POZ', 'OZ', 'P2', 'P1', 'CPZ', 'nd', 'Y']\n",
        "    #   df.to_csv(new_path+directory_name+'/'+file, index=False)\n",
        "print(\"Total Non-alcoholic data in alcoholic directory is : \", t)"
      ],
      "metadata": {
        "id": "_9XQFQz559v9",
        "colab": {
          "base_uri": "https://localhost:8080/"
        },
        "outputId": "2eef4aa7-4d39-487d-e121-f0dfbbdf66d9"
      },
      "execution_count": null,
      "outputs": [
        {
          "output_type": "stream",
          "name": "stdout",
          "text": [
            "Total Non-alcoholic data in alcoholic directory is :  3811\n"
          ]
        }
      ]
    },
    {
      "cell_type": "markdown",
      "source": [
        "Total Non-alcoholic data in EEG_FULL directory is :  3811\n",
        "\n",
        "Total alcoholic data in EEG_FULL directory is :  3849\n",
        "\n",
        "Total Data in EEG_FULL directory is :  10955\n",
        "\n",
        "Total alcoholic data in eeg_full directory is :  11074"
      ],
      "metadata": {
        "id": "ebCnfqRQHuhc"
      }
    }
  ]
}